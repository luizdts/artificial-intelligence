{
  "nbformat": 4,
  "nbformat_minor": 0,
  "metadata": {
    "colab": {
      "provenance": []
    },
    "kernelspec": {
      "name": "python3",
      "display_name": "Python 3"
    },
    "language_info": {
      "name": "python"
    }
  },
  "cells": [
    {
      "cell_type": "code",
      "execution_count": 7,
      "metadata": {
        "id": "0l5C-Gmc16N6"
      },
      "outputs": [],
      "source": [
        "import nltk #biblioteca de conversão textos para Python\n",
        "\n",
        "from nltk.corpus import stopwords # palavras que podem ser filtradas do texto\n",
        "\n",
        "# Demais bibliotecas que trabalham com operações em palavras\n",
        "import string\n",
        "import pandas as pd\n",
        "from sklearn.model_selection import train_test_split\n",
        "from sklearn.pipeline import Pipeline\n",
        "from sklearn.feature_extraction.text import CountVectorizer\n",
        "from sklearn.feature_extraction.text import TfidfTransformer\n",
        "from sklearn.naive_bayes import MultinomialNB\n",
        "from sklearn.metrics import classification_report,confusion_matrix"
      ]
    },
    {
      "cell_type": "code",
      "source": [
        "nltk.download('all')"
      ],
      "metadata": {
        "id": "2LRlCoTQGRMb"
      },
      "execution_count": null,
      "outputs": []
    },
    {
      "cell_type": "code",
      "source": [
        "msg = pd.read_csv('spam.csv', encoding='latin-1')\n",
        "\n",
        "msg = msg.drop(['Unnamed: 2','Unnamed: 3','Unnamed: 4'], axis=1)\n",
        "\n",
        "msg = msg.rename(columns={'v1': 'tipo','v2': 'mensagem'})\n",
        "print(msg)"
      ],
      "metadata": {
        "colab": {
          "base_uri": "https://localhost:8080/"
        },
        "id": "fNhr_eVo2BE5",
        "outputId": "29e040ad-8510-40bb-8abb-212ad0e18a3b"
      },
      "execution_count": 9,
      "outputs": [
        {
          "output_type": "stream",
          "name": "stdout",
          "text": [
            "      tipo                                           mensagem\n",
            "0      ham  Go until jurong point, crazy.. Available only ...\n",
            "1      ham                      Ok lar... Joking wif u oni...\n",
            "2     spam  Free entry in 2 a wkly comp to win FA Cup fina...\n",
            "3      ham  U dun say so early hor... U c already then say...\n",
            "4      ham  Nah I don't think he goes to usf, he lives aro...\n",
            "...    ...                                                ...\n",
            "5567  spam  This is the 2nd time we have tried 2 contact u...\n",
            "5568   ham              Will Ì_ b going to esplanade fr home?\n",
            "5569   ham  Pity, * was in mood for that. So...any other s...\n",
            "5570   ham  The guy did some bitching but I acted like i'd...\n",
            "5571   ham                         Rofl. Its true to its name\n",
            "\n",
            "[5572 rows x 2 columns]\n"
          ]
        }
      ]
    },
    {
      "cell_type": "code",
      "source": [
        "def limpaTexto(texto):\n",
        "    #remove pontuação caractere a caractere\n",
        "    remove_pontuacao = [char for char in texto if char not in string.punctuation]\n",
        "    #junta os caracteres em palavras novamente\n",
        "    remove_pontuacao = ''.join(remove_pontuacao)\n",
        "    \n",
        "    #nopunc.split() separa cada frase em palavras, retirando as que estão dentro de stopwords\n",
        "    #word.lower() torna todas as letras minúsculas\n",
        "    #essa linha remove as stopwords, retornando apenas as palavras relevantes para a análise\n",
        "    frase_limpa = [word for word in remove_pontuacao.split() if word.lower() not in stopwords.words('english')]\n",
        "        \n",
        "    return frase_limpa\n"
      ],
      "metadata": {
        "id": "-twIVPow2HIT"
      },
      "execution_count": 10,
      "outputs": []
    },
    {
      "cell_type": "code",
      "source": [
        "msg['length'] = msg['mensagem'].apply(len)\n",
        "\n",
        "msg['mensagem'].apply(limpaTexto)\n",
        "#Divisão entre conjutos de treino e teste: msg_train, msg_test\n",
        "#class_train e class_test são os rótulos de treinamento e teste\n",
        "msg_train, msg_test, class_train, class_test = train_test_split(msg['mensagem'], msg['tipo'], test_size=0.1)\n",
        "\n",
        "#Pipeline de como será feita a transformação, é analisado o arquivo de texto, contando a ocorrência de cada palavra\n",
        "# Em seguida vem a normalização da contagem e transforma os dados para que fiquem menores durante o treinamento\n",
        "# O classificador em Naive Bayes é iniciado para treinar os vetores \n",
        "\n",
        "pipeline = Pipeline([\n",
        "    ('bow', CountVectorizer(analyzer = limpaTexto)),\n",
        "    ('tfidf', TfidfTransformer()),\n",
        "    ('classifier', MultinomialNB())\n",
        "])\n",
        "\n",
        "#Treinamento do modelo\n",
        "pipeline.fit(msg_train, class_train)\n",
        "\n",
        "#Teste do modelo\n",
        "predictions = pipeline.predict(msg_test)\n",
        "\n",
        "print(classification_report(class_test, predictions))\n"
      ],
      "metadata": {
        "colab": {
          "base_uri": "https://localhost:8080/"
        },
        "id": "nYusp--e2OMP",
        "outputId": "836dc010-0d56-4e8e-bed1-5ab3f1ee6b2c"
      },
      "execution_count": 11,
      "outputs": [
        {
          "output_type": "stream",
          "name": "stdout",
          "text": [
            "              precision    recall  f1-score   support\n",
            "\n",
            "         ham       0.97      1.00      0.99       489\n",
            "        spam       1.00      0.80      0.89        69\n",
            "\n",
            "    accuracy                           0.97       558\n",
            "   macro avg       0.99      0.90      0.94       558\n",
            "weighted avg       0.98      0.97      0.97       558\n",
            "\n"
          ]
        }
      ]
    }
  ]
}