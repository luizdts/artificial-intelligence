{
  "nbformat": 4,
  "nbformat_minor": 0,
  "metadata": {
    "colab": {
      "provenance": []
    },
    "kernelspec": {
      "name": "python3",
      "display_name": "Python 3"
    },
    "language_info": {
      "name": "python"
    }
  },
  "cells": [
    {
      "cell_type": "markdown",
      "source": [
        "###Questão 6\n",
        "\n",
        "Pesquise e apresente um trabalho sobre os métodos de busca em árvore. No trabalho\n",
        "apresente uma aplicação de livre escolha"
      ],
      "metadata": {
        "id": "NwVpRRdrK08m"
      }
    },
    {
      "cell_type": "markdown",
      "source": [
        "Para solução desta questão optamos por mostrar como funciona a Depth First Search (DFS), que se trata de um dos métodos de busca em árvore que podem ser implementados em uma inteligência artificial.\n",
        "\n",
        "A DFS pode ser definida como um algoritmo de busca em grafos que realiza buscas a partir de um nó inicial para todos os outros nós não visitados a partir de uma pilha.\n",
        "\n",
        "De forma geral, a busca em profundidade (DFS) é um algoritmo de busca não informada, uma vez que não utiliza de qualquer informação para iniciar a busca.\n",
        "Nela, não é possível garantir a melhor solução, mas pode ser mais eficiente em termos do uso de memória do que outros algoritmos, como a Busca em Largura.\n"
      ],
      "metadata": {
        "id": "XPCwghVNQh4E"
      }
    },
    {
      "cell_type": "markdown",
      "source": [
        "Aplicações em que podem ser utilizadas a DFS:\n",
        "\n",
        "- Ordenação de grafos;\n",
        "- Verificar conexões em grafos;\n",
        "- Detectar ciclos em grafos;\n",
        "- Encontrar componentes conectados em grafos.\n"
      ],
      "metadata": {
        "id": "E7VfuwJthZIK"
      }
    },
    {
      "cell_type": "markdown",
      "source": [
        "Para essa questão, utilizaremos um problema que é solucionado com DFS.\n",
        "\n",
        "Fonte: https://github.com/ivanmmarkovic/Problem-Solving-with-Algorithms-and-Data-Structures-using-Python/tree/master/graphs/depth-first-search/depth-first-search"
      ],
      "metadata": {
        "id": "aCA7hXxIch8G"
      }
    },
    {
      "cell_type": "markdown",
      "source": [
        "Nesse problema, utilizaremos duas classes, uma para a pilha (inserir e retirar o nó) e o grafo (onde ficam armazenados os nós)."
      ],
      "metadata": {
        "id": "LrGVbVvle6Fa"
      }
    },
    {
      "cell_type": "code",
      "execution_count": null,
      "metadata": {
        "id": "Vot6iAUuF0nI"
      },
      "outputs": [],
      "source": [
        "class Stack:\n",
        "    def __init__(self):\n",
        "        self.items = []\n",
        "\n",
        "    def is_empty(self):\n",
        "        return self.items == []\n",
        "\n",
        "    def push(self, item):\n",
        "        self.items.append(item)\n",
        "\n",
        "    def pop(self):\n",
        "        return self.items.pop()\n",
        "\n",
        "    def peek(self):\n",
        "        return self.items[len(self.items) - 1]\n",
        "\n",
        "    def size(self):\n",
        "        return len(self.items)"
      ]
    },
    {
      "cell_type": "code",
      "source": [
        "class Graph:\n",
        "    def __init__(self):\n",
        "        self.vertices: list = []\n",
        "        self.adjacency_list: dict = {}\n",
        "        self.prev: dict = {}\n",
        "        self.distance: dict = {}\n",
        "        self.colors: dict = {}\n",
        "        self.entry: dict = {}\n",
        "        self.exit: dict = {}\n",
        "        self.time: int = 0\n",
        "\n",
        "    def add_vertex(self, label: str):\n",
        "        self.vertices.append(label)\n",
        "        self.adjacency_list[label]: list = []\n",
        "        self.prev[label] = None\n",
        "        self.distance[label] = 0\n",
        "        self.colors[label] = \"white\"\n",
        "\n",
        "    def add_edge(self, label1: str, label2: str):\n",
        "        self.adjacency_list[label1].append(label2)\n",
        "        self.adjacency_list[label2].append(label1)\n",
        "\n",
        "    def dfs(self, label: str):\n",
        "        s: Stack = Stack()\n",
        "        s.push(label)\n",
        "        self.colors[label] = \"gray\"\n",
        "        self.time += 1\n",
        "        self.entry[label] = self.time\n",
        "        while not s.is_empty():\n",
        "            tmp: str = s.peek()\n",
        "            neighbour: str = self.find_unvisited_neighbour(tmp)\n",
        "            if neighbour is not None:\n",
        "                self.prev[neighbour] = tmp\n",
        "                self.distance[neighbour] = self.distance[tmp] + 1\n",
        "                self.colors[neighbour] = \"gray\"\n",
        "                self.time += 1\n",
        "                self.entry[neighbour] = self.time\n",
        "                s.push(neighbour)\n",
        "            else:\n",
        "                s.pop()\n",
        "                self.time += 1\n",
        "                self.exit[tmp] = self.time\n",
        "                self.colors[tmp] = \"black\"\n",
        "\n",
        "    def return_path(self, label: str) -> str:\n",
        "        if self.prev[label] is None:\n",
        "            return label\n",
        "        else:\n",
        "            return self.return_path(self.prev[label]) + \" -> \" + label\n",
        "\n",
        "    def find_unvisited_neighbour(self, tmp) -> str:\n",
        "        for n in self.adjacency_list[tmp]:\n",
        "            if self.colors[n] == \"white\":\n",
        "                return n\n",
        "        return None"
      ],
      "metadata": {
        "id": "jGVI37QGPYEw"
      },
      "execution_count": null,
      "outputs": []
    },
    {
      "cell_type": "markdown",
      "source": [
        "Dessa forma, são declarados 9 nós, que irão iniciar a busca em profundidade a partir do nó A, são criadas as conexões entre cada um dos nós que formam o grafo e a partir desses nós que poderemos fazer a busca de um determinado nó à outro.\n",
        "\n",
        "No código abaixo, a busca em profundidade inicia-se no nó A e têm como objetivo encontrar o melhor caminho para o destino, que é o nó H."
      ],
      "metadata": {
        "id": "Eo-7bZnhfIt7"
      }
    },
    {
      "cell_type": "code",
      "source": [
        "\n",
        "graph = Graph()\n",
        "\n",
        "my_vertices = ['A', 'B', 'C', 'D', 'E', 'F', 'G', 'H', 'I']\n",
        "# add vertices\n",
        "for i in range(len(my_vertices)):\n",
        "    graph.add_vertex(my_vertices[i])\n",
        "\n",
        "graph.add_edge('A', 'B')\n",
        "graph.add_edge('A', 'C')\n",
        "graph.add_edge('A', 'D')\n",
        "graph.add_edge('C', 'D')\n",
        "graph.add_edge('C', 'G')\n",
        "graph.add_edge('D', 'G')\n",
        "graph.add_edge('D', 'H')\n",
        "graph.add_edge('B', 'E')\n",
        "graph.add_edge('B', 'F')\n",
        "graph.add_edge('E', 'I')\n",
        "\n",
        "graph.dfs(\"A\")\n",
        "print(graph.return_path(\"H\"))"
      ],
      "metadata": {
        "colab": {
          "base_uri": "https://localhost:8080/"
        },
        "id": "QlgzJ0wdPhfo",
        "outputId": "935a3652-2ce6-433e-8677-6389a0e37cad"
      },
      "execution_count": null,
      "outputs": [
        {
          "output_type": "stream",
          "name": "stdout",
          "text": [
            "A -> C -> D -> H\n"
          ]
        }
      ]
    },
    {
      "cell_type": "markdown",
      "source": [
        "Dadas as ligações que os nós possuem no grafo, o melhor caminho calculado pelo algoritmo de busca DFS para que o nó A consiga alcançar o nó H é o: A -> C -> D -> H."
      ],
      "metadata": {
        "id": "JEE0L37OmM6i"
      }
    }
  ]
}